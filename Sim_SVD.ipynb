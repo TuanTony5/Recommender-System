{
 "cells": [
  {
   "cell_type": "markdown",
   "metadata": {},
   "source": [
    "<h1> Import dataset <h1>"
   ]
  },
  {
   "cell_type": "code",
   "execution_count": 1,
   "metadata": {},
   "outputs": [],
   "source": [
    "# Download dataset and split it for training\n",
    "import pandas as pd\n",
    "import tabml.datasets\n",
    "import numpy as np\n",
    "\n",
    "df_dict = tabml.datasets.download_movielen_1m()\n",
    "ratings, movies, users = df_dict[\"ratings\"], df_dict[\"movies\"], df_dict[\"users\"]"
   ]
  },
  {
   "cell_type": "markdown",
   "metadata": {},
   "source": [
    "<h1> Visualize data inclue: users, ratings, movies <h1>"
   ]
  },
  {
   "cell_type": "code",
   "execution_count": 2,
   "metadata": {},
   "outputs": [],
   "source": [
    "# pass"
   ]
  },
  {
   "cell_type": "markdown",
   "metadata": {},
   "source": [
    "<h1> Build simple SVD model <h1>"
   ]
  },
  {
   "cell_type": "code",
   "execution_count": 3,
   "metadata": {},
   "outputs": [],
   "source": [
    "# Create the ratings matrix of shape (m×u) with rows as movies and columns as users\n",
    "ratings_mat = np.ndarray(\n",
    "    shape = (np.max(movies.MovieID),np.max(users.UserID)),\n",
    "    dtype=np.uint8\n",
    ")\n",
    "ratings_mat[ratings.MovieID.values-1, ratings.UserID.values-1] = ratings.Rating.values"
   ]
  },
  {
   "cell_type": "code",
   "execution_count": 4,
   "metadata": {},
   "outputs": [],
   "source": [
    "#Normalize\n",
    "normalised_mat = ratings_mat - np.asarray([(np.mean(ratings_mat, axis=1))]).T"
   ]
  },
  {
   "cell_type": "code",
   "execution_count": 5,
   "metadata": {},
   "outputs": [],
   "source": [
    "# SVD matrix\n",
    "A = normalised_mat.T / np.sqrt(ratings_mat.shape[0] - 1)\n",
    "U, S, V = np.linalg.svd(A)"
   ]
  },
  {
   "cell_type": "markdown",
   "metadata": {},
   "source": [
    "Calculate **cosine similarity**, sort by most similar and return the top N."
   ]
  },
  {
   "cell_type": "code",
   "execution_count": 6,
   "metadata": {},
   "outputs": [],
   "source": [
    "def top_cosine_similarity(data, movie_id, top_n=10):\n",
    "    index = movie_id - 1 # Movie id starts from 1\n",
    "    movie_row = data[index, :]\n",
    "    magnitude = np.sqrt(np.einsum('ij, ij -> i', data, data))\n",
    "    similarity = np.dot(movie_row, data.T) / (magnitude[index] * magnitude)\n",
    "    sort_indexes = np.argsort(-similarity)\n",
    "    return sort_indexes[:top_n]\n",
    "\n",
    "# Helper function to print top N similar movies\n",
    "def print_similar_movies(movie_data, movie_id, top_indexes):\n",
    "    print('Recommendations for {0}: \\n'.format(\n",
    "    movie_data[movie_data.MovieID == movie_id].Title.values[0]))\n",
    "    for id in top_indexes + 1:\n",
    "        print(movie_data[movie_data.MovieID == id].Title.values[0])"
   ]
  },
  {
   "cell_type": "code",
   "execution_count": 7,
   "metadata": {},
   "outputs": [
    {
     "name": "stdout",
     "output_type": "stream",
     "text": [
      "Recommendations for Dracula: Dead and Loving It (1995): \n",
      "\n",
      "Dracula: Dead and Loving It (1995)\n",
      "Tales from the Crypt Presents: Bordello of Blood (1996)\n",
      "Puppet Master III: Toulon's Revenge (1991)\n",
      "Return of the Texas Chainsaw Massacre, The (1994)\n",
      "Children of the Corn IV: The Gathering (1996)\n",
      "Children of the Corn III (1994)\n",
      "My Boyfriend's Back (1993)\n",
      "I Still Know What You Did Last Summer (1998)\n",
      "Dead Man on Campus (1998)\n",
      "Bio-Dome (1996)\n"
     ]
    },
    {
     "name": "stderr",
     "output_type": "stream",
     "text": [
      "C:\\Users\\ADMIN\\AppData\\Local\\Temp\\ipykernel_21884\\457065119.py:5: RuntimeWarning: invalid value encountered in true_divide\n",
      "  similarity = np.dot(movie_row, data.T) / (magnitude[index] * magnitude)\n"
     ]
    }
   ],
   "source": [
    "# Select k principal components to represent the movies, \n",
    "# a movie_id to find recommendations and print the top_n results.\n",
    "\n",
    "k = 150\n",
    "movie_id = 12 # Grab an id from movies.dat\n",
    "top_n = 10\n",
    "\n",
    "sliced = V.T[:, :k] # representative data\n",
    "indexes = top_cosine_similarity(sliced, movie_id, top_n)\n",
    "print_similar_movies(movies, movie_id, indexes)"
   ]
  }
 ],
 "metadata": {
  "kernelspec": {
   "display_name": "Python 3",
   "language": "python",
   "name": "python3"
  },
  "language_info": {
   "codemirror_mode": {
    "name": "ipython",
    "version": 3
   },
   "file_extension": ".py",
   "mimetype": "text/x-python",
   "name": "python",
   "nbconvert_exporter": "python",
   "pygments_lexer": "ipython3",
   "version": "3.8.0"
  }
 },
 "nbformat": 4,
 "nbformat_minor": 2
}
